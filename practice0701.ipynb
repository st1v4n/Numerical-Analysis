{
 "cells": [
  {
   "cell_type": "code",
   "execution_count": 1,
   "id": "b41a3b86",
   "metadata": {},
   "outputs": [],
   "source": [
    "import scipy as sp\n",
    "import numpy as np\n",
    "import matplotlib.pyplot as plt"
   ]
  },
  {
   "cell_type": "markdown",
   "id": "4726c10e",
   "metadata": {},
   "source": [
    "# Числено интегриране\n",
    "## Квадратурна формула на Гаус"
   ]
  },
  {
   "cell_type": "markdown",
   "id": "956a0524-366b-4c53-b85e-f85b2530c433",
   "metadata": {},
   "source": [
    "### Задача 1\n",
    "\n",
    "По метода на неопределените коефициенти да се намери формула на Гаус-Льожандър с 2 възела."
   ]
  },
  {
   "cell_type": "code",
   "execution_count": 3,
   "id": "b3d4b2f2-3f94-4cdc-a86b-8e554798805e",
   "metadata": {},
   "outputs": [],
   "source": [
    "from sympy import symbols, Eq, solve, integrate"
   ]
  },
  {
   "cell_type": "code",
   "execution_count": 5,
   "id": "6d42a86b-b408-4f24-9f66-73a3a9524d13",
   "metadata": {},
   "outputs": [
    {
     "data": {
      "text/plain": [
       "[{A1: 1, x1: -sqrt(3)/3, A2: 1, x2: sqrt(3)/3},\n",
       " {A1: 1, x1: sqrt(3)/3, A2: 1, x2: -sqrt(3)/3}]"
      ]
     },
     "execution_count": 5,
     "metadata": {},
     "output_type": "execute_result"
    }
   ],
   "source": [
    "A1, x1, A2, x2, x = symbols('A1, x1, A2, x2, x')\n",
    "equations = [Eq(A1 + A2, integrate(1, (x, -1, 1))), \n",
    "            Eq(A1 * x1 + A2 * x2, integrate(x, (x, -1, 1))),\n",
    "            Eq(A1 * x1 ** 2 + A2 * x2 ** 2, integrate(x ** 2, (x, -1, 1))),\n",
    "            Eq(A1 * x1 ** 3 + A2 * x2 ** 3, integrate(x ** 3, (x, -1, 1)))\n",
    "            ]\n",
    "solve(equations, A1, x1, A2, x2, dict = True)"
   ]
  },
  {
   "cell_type": "markdown",
   "id": "eda1f047-d0bb-4c62-ae13-d815afc46a14",
   "metadata": {},
   "source": [
    "### Задача 2\n",
    "\n",
    "По метода на неопределените коефициенти да се намери формула на Гаус-Льожандър с 3 възела."
   ]
  },
  {
   "cell_type": "code",
   "execution_count": 8,
   "id": "d18d7f76-237c-4238-90ff-2150ca7a9c79",
   "metadata": {},
   "outputs": [
    {
     "data": {
      "text/plain": [
       "[{A1: 5/9, x1: -sqrt(15)/5, A2: 5/9, x2: sqrt(15)/5, A3: 8/9, x3: 0},\n",
       " {A1: 5/9, x1: sqrt(15)/5, A2: 5/9, x2: -sqrt(15)/5, A3: 8/9, x3: 0},\n",
       " {A1: 5/9, x1: -sqrt(15)/5, A2: 8/9, x2: 0, A3: 5/9, x3: sqrt(15)/5},\n",
       " {A1: 5/9, x1: sqrt(15)/5, A2: 8/9, x2: 0, A3: 5/9, x3: -sqrt(15)/5},\n",
       " {A1: 8/9, x1: 0, A2: 5/9, x2: -sqrt(15)/5, A3: 5/9, x3: sqrt(15)/5},\n",
       " {A1: 8/9, x1: 0, A2: 5/9, x2: sqrt(15)/5, A3: 5/9, x3: -sqrt(15)/5}]"
      ]
     },
     "execution_count": 8,
     "metadata": {},
     "output_type": "execute_result"
    }
   ],
   "source": [
    "A1, x1, A2, x2, x, A3, x3 = symbols('A1, x1, A2, x2, x, A3, x3')\n",
    "equations = [Eq(A1 + A2 + A3, integrate(1, (x, -1, 1))), \n",
    "            Eq(A1 * x1 + A2 * x2 + A3 * x3, integrate(x, (x, -1, 1))),\n",
    "            Eq(A1 * x1 ** 2 + A2 * x2 ** 2 + A3 * x3**2, integrate(x ** 2, (x, -1, 1))),\n",
    "            Eq(A1 * x1 ** 3 + A2 * x2 ** 3 + A3 * x3**3, integrate(x ** 3, (x, -1, 1))),\n",
    "            Eq(A1 * x1 ** 4 + A2 * x2 ** 4 + A3 * x3**4, integrate(x ** 4, (x, -1, 1))),\n",
    "            Eq(A1 * x1 ** 5 + A2 * x2 ** 5 + A3 * x3**5, integrate(x ** 5, (x, -1, 1)))\n",
    "            ]\n",
    "solve(equations, A1, x1, A2, x2, A3, x3, dict = True)"
   ]
  },
  {
   "cell_type": "markdown",
   "id": "cceac7bf",
   "metadata": {},
   "source": [
    "### Задача 3\n",
    "\n",
    "Да се пресметне приближено стойността на \n",
    "\n",
    "$$ \\int_{0}^{0.8} f(x) \\,dx $$\n",
    "\n",
    "където \n",
    "$$ f(x) = 0.2 + 25x - 200x^2 +675 x^3 - 900x^4 + 400x^5, $$\n",
    "\n",
    "като се използват формулите на Гаус-Льожандър с 2 и 3 възела. Да се сравни с точната стойност.Да се сравни със стойността, която се получава по формулите на трапеците и Симпсън.\n",
    "\n"
   ]
  },
  {
   "cell_type": "code",
   "execution_count": 29,
   "id": "9f4e0351-67f0-4e57-ae23-34013c29afee",
   "metadata": {},
   "outputs": [
    {
     "name": "stdout",
     "output_type": "stream",
     "text": [
      "С 2 възела:\n",
      "1.9647999999999997\n",
      "С 3 възела:\n",
      "1.9647999999999997\n",
      "Simpson: \n",
      "1.3674666666666742\n",
      "estimated error of Simpson:\n",
      "1.911466666666667\n"
     ]
    }
   ],
   "source": [
    "import math\n",
    "def f_reformed(x):\n",
    "    return (0.2 + 25*(2.0/5) - 200 * (4.0/25) + 675 * (8.0/125) - 900 * (16.0/625) + 400 * (32.0/3125)) * 0.4\n",
    "    \n",
    "print(\"С 2 възела:\")\n",
    "print(1 * f_reformed(-math.sqrt(3) / 3) + 1 * f_reformed(math.sqrt(3)/3))\n",
    "print(\"С 3 възела:\")\n",
    "print(5/9 * f_reformed(-math.sqrt(15)/5) + 5/9 * f_reformed(math.sqrt(15)/5) + 8/9 * f_reformed(0))\n",
    "\n",
    "def f(x):\n",
    "    return 0.2 + 25 * x - 200 * (x**2) + 675 * (x**3) - 900 * (x**4) + 400 * (x**5)\n",
    "\n",
    "a = 0\n",
    "b = 0.8\n",
    "\n",
    "print(\"Simpson: \")\n",
    "print(str((b-a)/6 * (f(a) + 4*f((a+b)/2) + f(b))))\n",
    "\n",
    "print(\"estimated error of Simpson:\")\n",
    "\n",
    "err = ((-900*4*3*2 + 400*5*4*3*2*0.8) / 2880) * (0.8 ** 5)\n",
    "print(err)"
   ]
  }
 ],
 "metadata": {
  "kernelspec": {
   "display_name": "anaconda-2022.05-py39",
   "language": "python",
   "name": "conda-env-anaconda-2022.05-py39-py"
  },
  "language_info": {
   "codemirror_mode": {
    "name": "ipython",
    "version": 3
   },
   "file_extension": ".py",
   "mimetype": "text/x-python",
   "name": "python",
   "nbconvert_exporter": "python",
   "pygments_lexer": "ipython3",
   "version": "3.9.12"
  }
 },
 "nbformat": 4,
 "nbformat_minor": 5
}
