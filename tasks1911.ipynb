{
 "cells": [
  {
   "cell_type": "code",
   "execution_count": 4,
   "id": "461acaa6-f9ec-4cab-9815-024f8c4e05f8",
   "metadata": {},
   "outputs": [],
   "source": [
    "import numpy as np\n",
    "import matplotlib.pyplot as plt\n",
    "import math"
   ]
  },
  {
   "cell_type": "markdown",
   "id": "b60d75de-bd51-4ae0-a0a4-33fc39fabcca",
   "metadata": {},
   "source": [
    "# Обобщени полиноми. Интерполиране с обобщени полиноми."
   ]
  },
  {
   "cell_type": "markdown",
   "id": "a7e7abe1-5d3d-43df-9982-fd28338e51f2",
   "metadata": {},
   "source": [
    "### Задача 1"
   ]
  },
  {
   "cell_type": "markdown",
   "id": "91ad5853-ad84-4b9d-a4d6-8afd29656870",
   "metadata": {},
   "source": [
    "В таблицата са дадени данни за развитието на бактериална популация\n",
    "\n",
    "|  t, h  |  1 | 2 | 3 | 4 | 5 |\n",
    "| --- | --- | --- | --- | --- | --- | \n",
    "| бр. клетки (x1000)|  1 |12| 110 | 1037 | 12218 |\n",
    "\n",
    "Да се намери подходяща функция, която интерполира данните."
   ]
  },
  {
   "cell_type": "code",
   "execution_count": 196,
   "id": "1e4c7f41-ec74-4ba9-bd49-7b01c43110b4",
   "metadata": {},
   "outputs": [
    {
     "name": "stdout",
     "output_type": "stream",
     "text": [
      "Test for time = 5h \n",
      "12218.000000000002\n",
      "Test for time = 4.5h \n",
      "3418.4034944161504\n",
      "Test for time = 3.76h \n",
      "597.50996254295\n"
     ]
    },
    {
     "data": {
      "image/png": "[encoded data removed]",
      "text/plain": [
       "<Figure size 432x288 with 1 Axes>"
      ]
     },
     "metadata": {
      "needs_background": "light"
     },
     "output_type": "display_data"
    }
   ],
   "source": [
    "nodes1 = np.array([1,2,3,4,5])\n",
    "values1 = np.array([1,12,110,1037,12218])\n",
    "def exp(t):\n",
    "    result = []\n",
    "    for i in range(len(nodes1)):\n",
    "        result.append((math.e)**(i*t))\n",
    "    return result\n",
    "\n",
    "def exp_poly(nodes, t):\n",
    "    result = 0\n",
    "    for i in range(len(nodes)):\n",
    "        result += nodes[i]*(math.e**(i*t))\n",
    "    return result\n",
    "\n",
    "list_nodes1 = []\n",
    "for element in nodes1:\n",
    "    list_nodes1.append(exp(element))\n",
    "array_nodes1 = np.array(list_nodes1)\n",
    "solution_of_system = np.linalg.solve(array_nodes1, values1)\n",
    "print(\"Test for time = 5h \")\n",
    "print (exp_poly(solution_of_system, 5))\n",
    "print(\"Test for time = 4.5h \")\n",
    "print (exp_poly(solution_of_system, 4.5))\n",
    "print(\"Test for time = 3.76h \")\n",
    "print (exp_poly(solution_of_system, 3.76))\n",
    "x_axis = np.linspace(1,5,100)\n",
    "plt.scatter(nodes1,values1, color = 'red')\n",
    "plt.plot(x_axis, exp_poly(solution_of_system, x_axis))\n",
    "plt.show()"
   ]
  },
  {
   "cell_type": "markdown",
   "id": "050a20e3-2517-4793-bb14-19905fdea282",
   "metadata": {},
   "source": [
    "### Задача 2"
   ]
  },
  {
   "cell_type": "markdown",
   "id": "5dc88f48-6834-4ecc-ae4b-370250cf2aa7",
   "metadata": {},
   "source": [
    "В таблицата са дадени данни за зависимостта между нивото на алкохол в кръвта (BAC - Blood Alcohol Level) и относителния риск за попадане в ПТП (т.е. колко пъти се увеличава рискът спрямо водач, който не е употребявал алкохол)\n",
    "\n",
    "|  BAC  |  0 | 0.03 | 0.07 | 0.15 | 0.21 | 0.27 |\n",
    "| --- | --- | --- | --- | --- | --- | --- |\n",
    "| relative risk of crashing|  1 |1.06| 2.09 | 22.1 | 99.78 | 328.602 |\n",
    "\n",
    "Да се построи интерполационен полином по подходящ базис, който описва данните от таблицата. Да се начертае графиката му, заедно с данните от таблицата."
   ]
  },
  {
   "cell_type": "code",
   "execution_count": 194,
   "id": "0b1ae2c3-64a3-4e22-b164-75c899c2392a",
   "metadata": {},
   "outputs": [
    {
     "name": "stdout",
     "output_type": "stream",
     "text": [
      "Test for BAC = 0.16 \n",
      "29.17357710158103\n",
      "Test for BAC = 0.25 \n",
      "227.13426026397792\n",
      "Test for BAC = 0 \n",
      "0.999999999992724\n"
     ]
    },
    {
     "data": {
      "image/png": "[encoded data removed]",
      "text/plain": [
       "<Figure size 432x288 with 1 Axes>"
      ]
     },
     "metadata": {
      "needs_background": "light"
     },
     "output_type": "display_data"
    }
   ],
   "source": [
    "nodes1 = np.array([0.,0.03,0.07,0.21,0.27])\n",
    "values1 = np.array([1.,1.06,2.09,99.78,328.602])\n",
    "def exp(t):\n",
    "    result = []\n",
    "    for i in range(len(nodes1)):\n",
    "        result.append((math.e)**(i*t))\n",
    "    return result\n",
    "\n",
    "def exp_poly(nodes, t):\n",
    "    result = 0\n",
    "    for i in range(len(nodes)):\n",
    "        result += nodes[i]*(math.e**(i*t))\n",
    "    return result\n",
    "\n",
    "list_nodes1 = []\n",
    "for element in nodes1:\n",
    "    list_nodes1.append(exp(element))\n",
    "array_nodes1 = np.array(list_nodes1)\n",
    "solution_of_system = np.linalg.solve(array_nodes1, values1)\n",
    "print(\"Test for BAC = 0.16 \")\n",
    "print (exp_poly(solution_of_system, 0.16))\n",
    "print(\"Test for BAC = 0.25 \")\n",
    "print (exp_poly(solution_of_system, 0.25))\n",
    "print(\"Test for BAC = 0 \")\n",
    "print (exp_poly(solution_of_system, 0))\n",
    "x_axis = np.linspace(0,0.3,100)\n",
    "plt.scatter(nodes1,values1, color = 'red')\n",
    "plt.plot(x_axis, exp_poly(solution_of_system, x_axis))\n",
    "plt.legend(['Default values', 'Interpolated graphic'])\n",
    "plt.show()"
   ]
  },
  {
   "cell_type": "markdown",
   "id": "c1ddfa11-e6d0-43c9-b188-2cfdb4a853e0",
   "metadata": {},
   "source": [
    "### Задача 3"
   ]
  },
  {
   "cell_type": "markdown",
   "id": "852d5bcc-7fd4-47c4-a4b0-9eae46041632",
   "metadata": {},
   "source": [
    "В таблицата са дадени данни от сигнал на акселерометър в 5 момента от време:\n",
    "\n",
    "|  t, ms  |  1 | 1.5 | 3 | 4 | 6 |\n",
    "| --- | --- | --- | --- | --- | --- | \n",
    "| ускорение, $m/s^2$|  0 |1| 1.2 | 4 | 2 |\n",
    "\n",
    "Да се намери обощен полином по подходящ базис, който интерполира тези данни, ако е известно, че сигналът се описва от периодична функция с период а) $T=2\\pi$; б) $T=8$.\n",
    "Да се начертае графиката на полинома в интервала $[0, 4 \\pi]$ заедно с точките в една координатна система във всеки от случаите."
   ]
  },
  {
   "cell_type": "code",
   "execution_count": 192,
   "id": "83167cf0-3e26-47a9-a479-533d220b92e4",
   "metadata": {},
   "outputs": [
    {
     "name": "stdout",
     "output_type": "stream",
     "text": [
      "A)\n",
      "Test for time = 1 ms\n",
      "1.1102230246251565e-16\n",
      "Test for time = 3.7 ms\n",
      "2.7751387484450456\n",
      "Test for time = 5.15 ms\n",
      "5.848982893686041\n"
     ]
    },
    {
     "data": {
      "image/png": "[encoded data removed]",
      "text/plain": [
       "<Figure size 432x288 with 1 Axes>"
      ]
     },
     "metadata": {
      "needs_background": "light"
     },
     "output_type": "display_data"
    },
    {
     "name": "stdout",
     "output_type": "stream",
     "text": [
      "B)\n",
      "Test for time = 1 ms\n",
      "0.6633621426234662\n",
      "Test for time = 3.7 ms\n",
      "5.88659400839571\n",
      "Test for time = 5.15 ms\n",
      "-1.4641613135377876\n"
     ]
    },
    {
     "data": {
      "image/png": "[encoded data removed]",
      "text/plain": [
       "<Figure size 432x288 with 1 Axes>"
      ]
     },
     "metadata": {
      "needs_background": "light"
     },
     "output_type": "display_data"
    }
   ],
   "source": [
    "# a) T = 2Pi\n",
    "nodes1 = np.array([1.0 , 1.5, 3, 4, 6])\n",
    "values1 = np.array([0., 1, 1.2, 4, 2])\n",
    "def trig(t):\n",
    "    result = [1]\n",
    "    for i in range(1,len(nodes1)):\n",
    "        if i%2==0:\n",
    "            result.append(math.sin(((i+1)//2)*t))\n",
    "        else:\n",
    "            result.append(math.cos(((i+1)//2)*t))\n",
    "    return result\n",
    "\n",
    "def trig_poly(nodes, t):\n",
    "    result = nodes[0]\n",
    "    for i in range(1,len(nodes)):\n",
    "        if i%2==0:\n",
    "            result+= nodes[i] * np.sin((i+1)//2 * t)\n",
    "        else:\n",
    "            result+= nodes[i] * np.cos((i+1)//2 * t)\n",
    "    return result\n",
    "list_nodes1 = []\n",
    "for element in nodes1:\n",
    "    list_nodes1.append(trig(element))\n",
    "array_nodes1 = np.array(list_nodes1)\n",
    "solution_of_system = np.linalg.solve(array_nodes1, values1)\n",
    "print(\"A)\")\n",
    "print(\"Test for time = 1 ms\")\n",
    "print(trig_poly(solution_of_system, 1))\n",
    "print(\"Test for time = 3.7 ms\")\n",
    "print(trig_poly(solution_of_system, 3.7))\n",
    "print(\"Test for time = 5.15 ms\")\n",
    "print(trig_poly(solution_of_system, 5.15))\n",
    "x_axis = np.linspace(0, 2*math.pi, 100)\n",
    "plt.plot(x_axis, trig_poly(solution_of_system, x_axis))\n",
    "plt.scatter(nodes1,values1, color= \"red\")\n",
    "plt.show()\n",
    "# b) T = 8Pi\n",
    "print(\"B)\")\n",
    "for i in range(len(nodes1)):\n",
    "    nodes1[i] = (2*math.pi / 8)*nodes1[i]\n",
    "list_nodes1 = []\n",
    "for element in nodes1:\n",
    "    list_nodes1.append(trig(element))\n",
    "array_nodes1 = np.array(list_nodes1)\n",
    "solution_of_system = np.linalg.solve(array_nodes1, values1)\n",
    "print(\"Test for time = 1 ms\")\n",
    "print(trig_poly(solution_of_system, 1))\n",
    "print(\"Test for time = 3.7 ms\")\n",
    "print(trig_poly(solution_of_system, 3.7))\n",
    "print(\"Test for time = 5.15 ms\")\n",
    "print(trig_poly(solution_of_system, 5.15))\n",
    "x_axis = np.linspace(0, 2*math.pi, 100)\n",
    "plt.plot(x_axis, trig_poly(solution_of_system, x_axis))\n",
    "plt.scatter(nodes1,values1, color= \"red\")\n",
    "plt.show()"
   ]
  },
  {
   "cell_type": "markdown",
   "id": "2d2b57ac-fbe8-4247-ad5a-6fbccc3e179b",
   "metadata": {},
   "source": [
    "### Задача 4"
   ]
  },
  {
   "cell_type": "markdown",
   "id": "e6c7826f-e9fa-4e5f-a223-5a64addc830a",
   "metadata": {},
   "source": [
    "В таблицата са дадени данни за средните месечни количества слънчева радиация на територията на България, като лиспват данни за м. август\n",
    "\n",
    "|  t, месец  |  Я | Ф | М | А | М | Ю | Ю | A | С | O | Н | Д |\n",
    "| --- | --- | --- | --- | --- | --- | --- | --- | --- | --- | --- | --- | --- |\n",
    "| слънчева радиация, $W/m^2$|45.9| 78.2 | 123.5| 172.6| 223.5| 255.3| 286.0| | 183.9| 116.2 | 57.8| 37.7|\n",
    "\n",
    "Данните са осреднени на 30 дни, т.е. можем да считаме, че разстоянието между измерванията в два съседни месеца е 30. Като се има предвид това, както и факта, че разглежданият процес е с период 365 дни, да се намери обобщен полином по подходящ базис, който описва данните в таблицата. Като се използва така намерения полином, да се пресметне приближено количеството слънчева радиация, съответстващо на м. август. Да се сравни с действителната стойност - $257.9 W/m^2$."
   ]
  },
  {
   "cell_type": "code",
   "execution_count": 202,
   "id": "4e8d7b0e-44d0-4bea-876d-d1cd155a85a2",
   "metadata": {},
   "outputs": [
    {
     "name": "stdout",
     "output_type": "stream",
     "text": [
      "February: \n",
      "78.2\n",
      "March: \n",
      "123.50000000000001\n",
      "August: \n",
      "260.7935639691475\n"
     ]
    },
    {
     "data": {
      "image/png": "[encoded data removed]",
      "text/plain": [
       "<Figure size 432x288 with 1 Axes>"
      ]
     },
     "metadata": {
      "needs_background": "light"
     },
     "output_type": "display_data"
    },
    {
     "name": "stdout",
     "output_type": "stream",
     "text": [
      "Unknown point is in black\n"
     ]
    }
   ],
   "source": [
    "nodes1 = np.array([0.0 , 30, 60, 90, 120, 150, 180, 240, 270, 300, 330])\n",
    "values1 = np.array([45.9, 78.2, 123.5, 172.6, 223.5, 255.3, 286, 183.9, 116.2, 57.8, 37.7])\n",
    "def trig(t):\n",
    "    result = [1]\n",
    "    for i in range(1,len(nodes1)):\n",
    "        if i%2==0:\n",
    "            result.append(math.sin(((i+1)//2)*t))\n",
    "        else:\n",
    "            result.append(math.cos(((i+1)//2)*t))\n",
    "    return result\n",
    "def trig_poly(solution_of_system, t):\n",
    "    result = solution_of_system[0]\n",
    "    for i in range(1,len(solution_of_system)):\n",
    "        if i%2==0:\n",
    "            result+= solution_of_system[i] * np.sin((i+1)//2 * t)\n",
    "        else:\n",
    "            result+= solution_of_system[i] * np.cos((i+1)//2 * t)\n",
    "    return result\n",
    "for i in range(len(nodes1)):\n",
    "    a= (2*math.pi / 365) * nodes1[i]\n",
    "    nodes1[i] = a\n",
    "list_nodes1 = []\n",
    "for element in nodes1:\n",
    "    list_nodes1.append(trig(element))\n",
    "array_nodes1 = np.array(list_nodes1)\n",
    "solution_of_system = np.linalg.solve(array_nodes1, values1)\n",
    "print(\"February: \")\n",
    "print(trig_poly(solution_of_system,nodes1[1]))\n",
    "print(\"March: \")\n",
    "print(trig_poly(solution_of_system,nodes1[2]))\n",
    "print(\"August: \")\n",
    "print(trig_poly(solution_of_system,(2*math.pi / 365)*210))\n",
    "x_axis = np.linspace(0, 2*math.pi, 100)\n",
    "plt.plot(x_axis, trig_poly(solution_of_system, x_axis))\n",
    "plt.scatter(nodes1,values1, color= \"red\")\n",
    "plt.scatter(np.array([(2*math.pi / 365) * 210]), np.array([257.9]), color = \"black\")\n",
    "plt.show()\n",
    "print(\"Unknown point is in black\")"
   ]
  },
  {
   "cell_type": "code",
   "execution_count": null,
   "id": "ddb68e56-89e7-4bdc-90c8-b16eb49ad527",
   "metadata": {},
   "outputs": [],
   "source": []
  }
 ],
 "metadata": {
  "kernelspec": {
   "display_name": "anaconda-2022.05-py39",
   "language": "python",
   "name": "conda-env-anaconda-2022.05-py39-py"
  },
  "language_info": {
   "codemirror_mode": {
    "name": "ipython",
    "version": 3
   },
   "file_extension": ".py",
   "mimetype": "text/x-python",
   "name": "python",
   "nbconvert_exporter": "python",
   "pygments_lexer": "ipython3",
   "version": "3.9.12"
  }
 },
 "nbformat": 4,
 "nbformat_minor": 5
}
